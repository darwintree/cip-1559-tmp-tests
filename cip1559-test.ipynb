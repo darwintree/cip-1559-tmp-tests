{
 "cells": [
  {
   "cell_type": "code",
   "execution_count": null,
   "metadata": {},
   "outputs": [],
   "source": [
    "!pip install python-dotenv conflux-web3 git+https://github.com/conflux-fans/cfx-account.git@v1.1.0-beta.2"
   ]
  },
  {
   "cell_type": "code",
   "execution_count": null,
   "metadata": {},
   "outputs": [],
   "source": [
    "import dotenv\n",
    "from cfx_account import Account as CfxAccount\n",
    "\n",
    "from conflux_web3 import Web3 as CWeb3\n",
    "from web3 import Web3 as EWeb3\n",
    "\n",
    "# import logging\n",
    "# logging.basicConfig(level=logging.DEBUG)\n",
    "\n",
    "c_w3 = CWeb3(CWeb3.HTTPProvider('https://net8888cfx.confluxrpc.com'))\n",
    "e_w3 = EWeb3(EWeb3.HTTPProvider('https://net8889eth.confluxrpc.com'))\n",
    "assert c_w3.is_connected()\n",
    "assert e_w3.is_connected()\n",
    "\n",
    "env_vals = dotenv.dotenv_values(\".env\")\n",
    "\n",
    "sk:str = env_vals[\"sk\"]\n",
    "acct = CfxAccount.from_key(sk, network_id=8888)\n",
    "\n",
    "print(acct.address)\n",
    "\n",
    "tx_dict = {\n",
    "    \"from\": acct.address,\n",
    "    \"to\": CfxAccount.create(network_id=8888).address,\n",
    "    \"value\": 10**18,\n",
    "    \"storageLimit\": 0,\n",
    "    \"accessList\": [],\n",
    "    \"epochHeight\": c_w3.cfx.epoch_number, # or manually fill this field\n",
    "    \"gas\": 21000,\n",
    "    \"maxFeePerGas\": 10**10,\n",
    "    \"maxPriorityFeePerGas\": 10**9,\n",
    "    \"nonce\": c_w3.cfx.get_transaction_count(acct.address),\n",
    "    \"chainId\": 8888,\n",
    "}\n",
    "\n",
    "raw_tx = c_w3.cfx.account.sign_transaction(tx_dict, sk).rawTransaction\n",
    "\n",
    "h = c_w3.cfx.send_raw_transaction(raw_tx)\n",
    "\n",
    "c_w3.cfx.wait_for_transaction_receipt(h)"
   ]
  },
  {
   "cell_type": "code",
   "execution_count": null,
   "metadata": {},
   "outputs": [],
   "source": [
    "c_w3.cfx._allow_arbitary_rpc=True\n",
    "print(c_w3.cfx.feeHistory(\"0x5\", \"latest_state\", [50,50,50,50,50]))\n",
    "print(c_w3.cfx.maxPriorityFeePerGas())"
   ]
  },
  {
   "cell_type": "code",
   "execution_count": null,
   "metadata": {},
   "outputs": [],
   "source": [
    "print(e_w3.eth.max_priority_fee)\n",
    "print(e_w3.eth.fee_history(5, \"latest\", [50,50,50,50,50]))"
   ]
  }
 ],
 "metadata": {
  "kernelspec": {
   "display_name": "cip-1559-test",
   "language": "python",
   "name": "python3"
  },
  "language_info": {
   "codemirror_mode": {
    "name": "ipython",
    "version": 3
   },
   "file_extension": ".py",
   "mimetype": "text/x-python",
   "name": "python",
   "nbconvert_exporter": "python",
   "pygments_lexer": "ipython3",
   "version": "3.11.9"
  }
 },
 "nbformat": 4,
 "nbformat_minor": 2
}
