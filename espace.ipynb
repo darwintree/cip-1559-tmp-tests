{
 "cells": [
  {
   "cell_type": "code",
   "execution_count": 1,
   "metadata": {},
   "outputs": [
    {
     "name": "stdout",
     "output_type": "stream",
     "text": [
      "<eth_account.signers.local.LocalAccount object at 0x110089900>\n",
      "499999992709749999990250\n"
     ]
    }
   ],
   "source": [
    "from conflux_web3 import Web3 as CWeb3\n",
    "from web3 import Web3 as EWeb3\n",
    "\n",
    "import dotenv\n",
    "from eth_account import Account as EthAccount\n",
    "\n",
    "import logging\n",
    "# logging.basicConfig(level=logging.DEBUG)\n",
    "\n",
    "env_vals = dotenv.dotenv_values(\".env\")\n",
    "c_w3 = CWeb3(CWeb3.HTTPProvider('https://net8888cfx.confluxrpc.com'))\n",
    "e_w3 = EWeb3(EWeb3.HTTPProvider('https://net8889eth.confluxrpc.com'))\n",
    "assert c_w3.is_connected()\n",
    "assert e_w3.is_connected()\n",
    "\n",
    "sk:str = env_vals[\"sk\"]\n",
    "print(acct := EthAccount.from_key(sk))\n",
    "print(e_w3.eth.get_balance(acct.address))"
   ]
  },
  {
   "cell_type": "code",
   "execution_count": 2,
   "metadata": {},
   "outputs": [],
   "source": [
    "from web3.middleware.signing import construct_sign_and_send_raw_middleware\n",
    "\n",
    "e_w3.middleware_onion.inject(construct_sign_and_send_raw_middleware(sk), layer=0)\n",
    "e_w3.eth.default_account = acct.address"
   ]
  },
  {
   "cell_type": "code",
   "execution_count": 3,
   "metadata": {},
   "outputs": [
    {
     "data": {
      "text/plain": [
       "Decimal('499999.99270974999999025')"
      ]
     },
     "execution_count": 3,
     "metadata": {},
     "output_type": "execute_result"
    }
   ],
   "source": [
    "e_w3.from_wei(e_w3.eth.get_balance(acct.address), \"ether\")"
   ]
  },
  {
   "cell_type": "code",
   "execution_count": 4,
   "metadata": {},
   "outputs": [
    {
     "data": {
      "text/plain": [
       "27200"
      ]
     },
     "execution_count": 4,
     "metadata": {},
     "output_type": "execute_result"
    }
   ],
   "source": [
    "e_w3.eth.estimate_gas({\n",
    "    \"to\": EthAccount.create().address,\n",
    "    \"value\": 10000,\n",
    "    \"accessList\": [\n",
    "        {\n",
    "            \"address\": \"0xde0b295669a9fd93d5f28d9ec85e40f4cb697bae\",\n",
    "            \"storageKeys\": [\n",
    "                \"0x0000000000000000000000000000000000000000000000000000000000000003\",\n",
    "                \"0x0000000000000000000000000000000000000000000000000000000000000007\"\n",
    "            ]\n",
    "        },\n",
    "        # [\n",
    "        #     \"0xbb9bc244d798123fde783fcc1c72d3bb8c189413\",\n",
    "        #     []\n",
    "        # ]\n",
    "    ]\n",
    "})"
   ]
  },
  {
   "cell_type": "code",
   "execution_count": 6,
   "metadata": {},
   "outputs": [],
   "source": [
    "h = e_w3.eth.send_transaction(\n",
    "    {\n",
    "        \"type\": \"0x2\",\n",
    "        \"to\": EthAccount.create().address,\n",
    "        \"value\": 10000,\n",
    "        \"accessList\": (\n",
    "        ),\n",
    "    }\n",
    ")"
   ]
  },
  {
   "cell_type": "code",
   "execution_count": 7,
   "metadata": {},
   "outputs": [
    {
     "data": {
      "text/plain": [
       "AttributeDict({'accessList': [],\n",
       " 'blockHash': None,\n",
       " 'blockNumber': None,\n",
       " 'chainId': 8889,\n",
       " 'creates': None,\n",
       " 'from': '0x4677ADa49E168df1290C9daA4EC820039D0097E3',\n",
       " 'gas': 121000,\n",
       " 'gasPrice': 40000000000,\n",
       " 'hash': HexBytes('0xcc4d188c4244110f3a3f9b8f5359d314c3d5db5e251cf63301e98ab3e0a2eb81'),\n",
       " 'input': HexBytes('0x'),\n",
       " 'maxFeePerGas': 40000000000,\n",
       " 'maxPriorityFeePerGas': 0,\n",
       " 'nonce': 5,\n",
       " 'publicKey': HexBytes('0xf38f7305ab505e61e7e16236e20a81f783f99aecc5ccc11f1f31aea3dd29d7d5b3ac61023c352f30062c2eed86cff2c7369f64458e82fa8cd951870b4ee23d52'),\n",
       " 'r': HexBytes('0x42a83a2870716d8cbbcf6c7db9b5cb5a22c80f7ff9d8dfadeea1eca46cf904c8'),\n",
       " 'raw': HexBytes('0x02f86c8222b905808509502f90008301d8a894c7a72a1d74fe0d43992b0bb5586838a57696d04182271080c001a042a83a2870716d8cbbcf6c7db9b5cb5a22c80f7ff9d8dfadeea1eca46cf904c8a06e14f96f7c8a5b4934cb0fa681f9b73111c48e8fedb44c35144f716552a630fc'),\n",
       " 's': HexBytes('0x6e14f96f7c8a5b4934cb0fa681f9b73111c48e8fedb44c35144f716552a630fc'),\n",
       " 'standardV': 1,\n",
       " 'status': None,\n",
       " 'to': '0xc7A72a1D74FE0D43992B0BB5586838a57696d041',\n",
       " 'transactionIndex': None,\n",
       " 'type': 2,\n",
       " 'v': 17814,\n",
       " 'value': 10000,\n",
       " 'yParity': '0x1'})"
      ]
     },
     "execution_count": 7,
     "metadata": {},
     "output_type": "execute_result"
    }
   ],
   "source": [
    "e_w3.eth.get_transaction(h)"
   ]
  },
  {
   "cell_type": "code",
   "execution_count": 8,
   "metadata": {},
   "outputs": [
    {
     "ename": "KeyboardInterrupt",
     "evalue": "",
     "output_type": "error",
     "traceback": [
      "\u001b[0;31m---------------------------------------------------------------------------\u001b[0m",
      "\u001b[0;31mKeyboardInterrupt\u001b[0m                         Traceback (most recent call last)",
      "Cell \u001b[0;32mIn[8], line 1\u001b[0m\n\u001b[0;32m----> 1\u001b[0m \u001b[43me_w3\u001b[49m\u001b[38;5;241;43m.\u001b[39;49m\u001b[43meth\u001b[49m\u001b[38;5;241;43m.\u001b[39;49m\u001b[43mwait_for_transaction_receipt\u001b[49m\u001b[43m(\u001b[49m\u001b[43mh\u001b[49m\u001b[43m)\u001b[49m\n",
      "File \u001b[0;32m~/miniconda3/envs/cip-1559-test/lib/python3.10/site-packages/web3/eth/eth.py:474\u001b[0m, in \u001b[0;36mEth.wait_for_transaction_receipt\u001b[0;34m(self, transaction_hash, timeout, poll_latency)\u001b[0m\n\u001b[1;32m    472\u001b[0m             \u001b[38;5;28;01mif\u001b[39;00m tx_receipt \u001b[38;5;129;01mis\u001b[39;00m \u001b[38;5;129;01mnot\u001b[39;00m \u001b[38;5;28;01mNone\u001b[39;00m:\n\u001b[1;32m    473\u001b[0m                 \u001b[38;5;28;01mbreak\u001b[39;00m\n\u001b[0;32m--> 474\u001b[0m             \u001b[43m_timeout\u001b[49m\u001b[38;5;241;43m.\u001b[39;49m\u001b[43msleep\u001b[49m\u001b[43m(\u001b[49m\u001b[43mpoll_latency\u001b[49m\u001b[43m)\u001b[49m\n\u001b[1;32m    475\u001b[0m     \u001b[38;5;28;01mreturn\u001b[39;00m tx_receipt\n\u001b[1;32m    477\u001b[0m \u001b[38;5;28;01mexcept\u001b[39;00m Timeout:\n",
      "File \u001b[0;32m~/miniconda3/envs/cip-1559-test/lib/python3.10/site-packages/web3/_utils/threads.py:98\u001b[0m, in \u001b[0;36mTimeout.sleep\u001b[0;34m(self, seconds)\u001b[0m\n\u001b[1;32m     97\u001b[0m \u001b[38;5;28;01mdef\u001b[39;00m \u001b[38;5;21msleep\u001b[39m(\u001b[38;5;28mself\u001b[39m, seconds: \u001b[38;5;28mfloat\u001b[39m) \u001b[38;5;241m-\u001b[39m\u001b[38;5;241m>\u001b[39m \u001b[38;5;28;01mNone\u001b[39;00m:\n\u001b[0;32m---> 98\u001b[0m     \u001b[43mtime\u001b[49m\u001b[38;5;241;43m.\u001b[39;49m\u001b[43msleep\u001b[49m\u001b[43m(\u001b[49m\u001b[43mseconds\u001b[49m\u001b[43m)\u001b[49m\n\u001b[1;32m     99\u001b[0m     \u001b[38;5;28mself\u001b[39m\u001b[38;5;241m.\u001b[39mcheck()\n",
      "\u001b[0;31mKeyboardInterrupt\u001b[0m: "
     ]
    }
   ],
   "source": [
    "e_w3.eth.wait_for_transaction_receipt(h)"
   ]
  },
  {
   "cell_type": "code",
   "execution_count": null,
   "metadata": {},
   "outputs": [],
   "source": [
    "e_w3.eth.fee_history(5, \"latest\", [50,50,50,50,50])"
   ]
  },
  {
   "cell_type": "code",
   "execution_count": null,
   "metadata": {},
   "outputs": [],
   "source": [
    "e_w3.eth.max_priority_fee"
   ]
  }
 ],
 "metadata": {
  "kernelspec": {
   "display_name": "cip-1559-test",
   "language": "python",
   "name": "python3"
  },
  "language_info": {
   "codemirror_mode": {
    "name": "ipython",
    "version": 3
   },
   "file_extension": ".py",
   "mimetype": "text/x-python",
   "name": "python",
   "nbconvert_exporter": "python",
   "pygments_lexer": "ipython3",
   "version": "3.10.14"
  }
 },
 "nbformat": 4,
 "nbformat_minor": 2
}
